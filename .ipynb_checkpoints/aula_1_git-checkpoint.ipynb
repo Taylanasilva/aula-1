{
 "cells": [
  {
   "cell_type": "code",
   "execution_count": 1,
   "id": "eddd6016",
   "metadata": {},
   "outputs": [
    {
     "name": "stdout",
     "output_type": "stream",
     "text": [
      "Que dia é hoje?sexta\n",
      "sexta - hoje é dia de aula de Python\n"
     ]
    }
   ],
   "source": [
    "def diasdeaula(hoje):\n",
    "    hoje = input(\"Que dia é hoje?\")\n",
    "    if hoje == \"segunda\" or hoje == \"quarta\" or hoje == \"sexta\":\n",
    "        return print(hoje, \"- hoje é dia de aula de Python\")\n",
    "    else:\n",
    "        return print(hoje, \"- hoje não é dia de aula de Python\")\n",
    "    \n",
    "diasdeaula(\"\")"
   ]
  },
  {
   "cell_type": "code",
   "execution_count": null,
   "id": "5e4445f6",
   "metadata": {},
   "outputs": [],
   "source": []
  }
 ],
 "metadata": {
  "kernelspec": {
   "display_name": "Python 3 (ipykernel)",
   "language": "python",
   "name": "python3"
  },
  "language_info": {
   "codemirror_mode": {
    "name": "ipython",
    "version": 3
   },
   "file_extension": ".py",
   "mimetype": "text/x-python",
   "name": "python",
   "nbconvert_exporter": "python",
   "pygments_lexer": "ipython3",
   "version": "3.9.12"
  }
 },
 "nbformat": 4,
 "nbformat_minor": 5
}
